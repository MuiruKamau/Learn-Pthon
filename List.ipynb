{
 "cells": [
  {
   "cell_type": "code",
   "execution_count": 3,
   "metadata": {},
   "outputs": [
    {
     "name": "stdout",
     "output_type": "stream",
     "text": [
      "['physics', 'chemistry', 1997, 2000]\n"
     ]
    }
   ],
   "source": [
    "#creat a list\n",
    "list1 = ['physics', 'chemistry', 1997, 2000]\n",
    "print(list1)"
   ]
  },
  {
   "cell_type": "markdown",
   "metadata": {},
   "source": [
    "Python Collections (Arrays)\n",
    "There are four collection data types in the Python programming language:\n",
    "\n",
    "List is a collection which is ordered and changeable. Allows duplicate members.\n",
    "\n",
    "Tuple is a collection which is ordered and unchangeable. Allows duplicate members.\n",
    "\n",
    "Set is a collection which is unordered, unchangeable*, and unindexed. No duplicate members.\n",
    "\n",
    "Dictionary is a collection which is ordered** and changeable. No duplicate members."
   ]
  },
  {
   "cell_type": "code",
   "execution_count": 1,
   "metadata": {},
   "outputs": [
    {
     "name": "stdout",
     "output_type": "stream",
     "text": [
      "physics\n",
      "chemistry\n",
      "1997\n",
      "2000\n"
     ]
    }
   ],
   "source": [
    "#LOOP ON A LIST\n",
    "\n",
    "list2 = ['physics', 'chemistry', 1997, 2000]\n",
    "\n",
    "for i in list2:\n",
    "    print(i)"
   ]
  },
  {
   "cell_type": "code",
   "execution_count": 1,
   "metadata": {},
   "outputs": [
    {
     "name": "stdout",
     "output_type": "stream",
     "text": [
      "4\n"
     ]
    }
   ],
   "source": [
    "# Finding the length of a list\n",
    "list3 = ['physics', 'chemistry', 1997, 2000]\n",
    "print(len(list3))"
   ]
  },
  {
   "cell_type": "code",
   "execution_count": 2,
   "metadata": {},
   "outputs": [
    {
     "name": "stdout",
     "output_type": "stream",
     "text": [
      "['physics', 'chemistry', 1997, 2000, 1997]\n"
     ]
    }
   ],
   "source": [
    "#list allow duplicate values\n",
    "list4 = ['physics', 'chemistry', 1997, 2000, 1997]\n",
    "print(list4)"
   ]
  },
  {
   "cell_type": "code",
   "execution_count": 3,
   "metadata": {},
   "outputs": [
    {
     "name": "stdout",
     "output_type": "stream",
     "text": [
      "['physics', 'chemistry', 1997, 2000, 1997, 3.14]\n"
     ]
    }
   ],
   "source": [
    "#list items can be of different data types\n",
    "list5 = ['physics', 'chemistry', 1997, 2000, 1997, 3.14]\n",
    "print(list5)"
   ]
  },
  {
   "cell_type": "code",
   "execution_count": 4,
   "metadata": {},
   "outputs": [
    {
     "name": "stdout",
     "output_type": "stream",
     "text": [
      "physics\n",
      "chemistry\n"
     ]
    }
   ],
   "source": [
    "#accesing values in a list\n",
    "list6 = ['physics', 'chemistry', 1997, 2000, 1997, 3.14]\n",
    "print(list6[0])\n",
    "print(list6[1])"
   ]
  },
  {
   "cell_type": "code",
   "execution_count": 5,
   "metadata": {},
   "outputs": [
    {
     "name": "stdout",
     "output_type": "stream",
     "text": [
      "3.14\n",
      "1997\n"
     ]
    }
   ],
   "source": [
    "#Negative indexing in list\n",
    "list7 = ['physics', 'chemistry', 1997, 2000, 1997, 3.14]\n",
    "print(list7[-1])\n",
    "print(list7[-2])"
   ]
  },
  {
   "cell_type": "code",
   "execution_count": 6,
   "metadata": {},
   "outputs": [
    {
     "name": "stdout",
     "output_type": "stream",
     "text": [
      "yes\n"
     ]
    }
   ],
   "source": [
    "#Check for items in a list\n",
    "list8 = ['physics', 'chemistry', 1997, 2000, 1997, 3.14]\n",
    "if 'physics' in list8:\n",
    "    print(\"yes\")"
   ]
  },
  {
   "cell_type": "code",
   "execution_count": 7,
   "metadata": {},
   "outputs": [
    {
     "name": "stdout",
     "output_type": "stream",
     "text": [
      "['physics', 'chemistry', 2019, 2000, 1997, 3.14]\n"
     ]
    }
   ],
   "source": [
    "#Change item value in a list\n",
    "list9 = ['physics', 'chemistry', 1997, 2000, 1997, 3.14]\n",
    "list9[2] = 2019\n",
    "print(list9)\n"
   ]
  }
 ],
 "metadata": {
  "kernelspec": {
   "display_name": "base",
   "language": "python",
   "name": "python3"
  },
  "language_info": {
   "codemirror_mode": {
    "name": "ipython",
    "version": 3
   },
   "file_extension": ".py",
   "mimetype": "text/x-python",
   "name": "python",
   "nbconvert_exporter": "python",
   "pygments_lexer": "ipython3",
   "version": "3.11.5"
  }
 },
 "nbformat": 4,
 "nbformat_minor": 2
}
