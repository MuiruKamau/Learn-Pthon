{
 "cells": [
  {
   "cell_type": "code",
   "execution_count": 3,
   "metadata": {},
   "outputs": [
    {
     "name": "stdout",
     "output_type": "stream",
     "text": [
      "['physics', 'chemistry', 1997, 2000]\n"
     ]
    }
   ],
   "source": [
    "#creat a list\n",
    "list1 = ['physics', 'chemistry', 1997, 2000]\n",
    "print(list1)"
   ]
  },
  {
   "cell_type": "markdown",
   "metadata": {},
   "source": [
    "Python Collections (Arrays)\n",
    "There are four collection data types in the Python programming language:\n",
    "\n",
    "List is a collection which is ordered and changeable. Allows duplicate members.\n",
    "\n",
    "Tuple is a collection which is ordered and unchangeable. Allows duplicate members.\n",
    "\n",
    "Set is a collection which is unordered, unchangeable*, and unindexed. No duplicate members.\n",
    "\n",
    "Dictionary is a collection which is ordered** and changeable. No duplicate members."
   ]
  },
  {
   "cell_type": "code",
   "execution_count": 1,
   "metadata": {},
   "outputs": [
    {
     "name": "stdout",
     "output_type": "stream",
     "text": [
      "physics\n",
      "chemistry\n",
      "1997\n",
      "2000\n"
     ]
    }
   ],
   "source": [
    "#LOOP ON A LIST\n",
    "\n",
    "list2 = ['physics', 'chemistry', 1997, 2000]\n",
    "\n",
    "for i in list2:\n",
    "    print(i)"
   ]
  },
  {
   "cell_type": "code",
   "execution_count": 1,
   "metadata": {},
   "outputs": [
    {
     "name": "stdout",
     "output_type": "stream",
     "text": [
      "4\n"
     ]
    }
   ],
   "source": [
    "# Finding the length of a list\n",
    "list3 = ['physics', 'chemistry', 1997, 2000]\n",
    "print(len(list3))"
   ]
  },
  {
   "cell_type": "code",
   "execution_count": 2,
   "metadata": {},
   "outputs": [
    {
     "name": "stdout",
     "output_type": "stream",
     "text": [
      "['physics', 'chemistry', 1997, 2000, 1997]\n"
     ]
    }
   ],
   "source": [
    "#list allow duplicate values\n",
    "list4 = ['physics', 'chemistry', 1997, 2000, 1997]\n",
    "print(list4)"
   ]
  },
  {
   "cell_type": "code",
   "execution_count": 3,
   "metadata": {},
   "outputs": [
    {
     "name": "stdout",
     "output_type": "stream",
     "text": [
      "['physics', 'chemistry', 1997, 2000, 1997, 3.14]\n"
     ]
    }
   ],
   "source": [
    "#list items can be of different data types\n",
    "list5 = ['physics', 'chemistry', 1997, 2000, 1997, 3.14]\n",
    "print(list5)"
   ]
  },
  {
   "cell_type": "code",
   "execution_count": 4,
   "metadata": {},
   "outputs": [
    {
     "name": "stdout",
     "output_type": "stream",
     "text": [
      "physics\n",
      "chemistry\n"
     ]
    }
   ],
   "source": [
    "#accesing values in a list\n",
    "list6 = ['physics', 'chemistry', 1997, 2000, 1997, 3.14]\n",
    "print(list6[0])\n",
    "print(list6[1])"
   ]
  },
  {
   "cell_type": "code",
   "execution_count": 5,
   "metadata": {},
   "outputs": [
    {
     "name": "stdout",
     "output_type": "stream",
     "text": [
      "3.14\n",
      "1997\n"
     ]
    }
   ],
   "source": [
    "#Negative indexing in list\n",
    "list7 = ['physics', 'chemistry', 1997, 2000, 1997, 3.14]\n",
    "print(list7[-1])\n",
    "print(list7[-2])"
   ]
  },
  {
   "cell_type": "code",
   "execution_count": 6,
   "metadata": {},
   "outputs": [
    {
     "name": "stdout",
     "output_type": "stream",
     "text": [
      "yes\n"
     ]
    }
   ],
   "source": [
    "#Check for items in a list\n",
    "list8 = ['physics', 'chemistry', 1997, 2000, 1997, 3.14]\n",
    "if 'physics' in list8:\n",
    "    print(\"yes\")"
   ]
  },
  {
   "cell_type": "code",
   "execution_count": 7,
   "metadata": {},
   "outputs": [
    {
     "name": "stdout",
     "output_type": "stream",
     "text": [
      "['physics', 'chemistry', 2019, 2000, 1997, 3.14]\n"
     ]
    }
   ],
   "source": [
    "#Change item value in a list\n",
    "list9 = ['physics', 'chemistry', 1997, 2000, 1997, 3.14]\n",
    "list9[2] = 2019\n",
    "print(list9)\n"
   ]
  },
  {
   "cell_type": "code",
   "execution_count": 2,
   "metadata": {},
   "outputs": [
    {
     "name": "stdout",
     "output_type": "stream",
     "text": [
      "['physics', 'chemistry', 2019, 1997, 2000, 1997, 3.14]\n"
     ]
    }
   ],
   "source": [
    "#using insert() method\n",
    "list10 = ['physics', 'chemistry', 1997, 2000, 1997, 3.14]\n",
    "list10.insert(2, 2019)\n",
    "print(list10)"
   ]
  },
  {
   "cell_type": "code",
   "execution_count": 3,
   "metadata": {},
   "outputs": [
    {
     "name": "stdout",
     "output_type": "stream",
     "text": [
      "['physics', 'chemistry', 1997, 2000, 1997, 3.14, 2019]\n"
     ]
    }
   ],
   "source": [
    "#Addind items to a list using append() method\n",
    "list11 = ['physics', 'chemistry', 1997, 2000, 1997, 3.14]\n",
    "list11.append(2019)\n",
    "print(list11)"
   ]
  },
  {
   "cell_type": "code",
   "execution_count": 4,
   "metadata": {},
   "outputs": [
    {
     "name": "stdout",
     "output_type": "stream",
     "text": [
      "['physics', 'chemistry', 2019, 1997, 2000, 1997, 3.14]\n"
     ]
    }
   ],
   "source": [
    "#insert an item at a given position using insert() method\n",
    "list12 = ['physics', 'chemistry', 1997, 2000, 1997, 3.14]\n",
    "list12.insert(2, 2019)\n",
    "print(list12)"
   ]
  },
  {
   "cell_type": "code",
   "execution_count": 5,
   "metadata": {},
   "outputs": [
    {
     "name": "stdout",
     "output_type": "stream",
     "text": [
      "['physics', 'chemistry', 1997, 2000, 1997, 3.14, 2019, 2020]\n"
     ]
    }
   ],
   "source": [
    "#using extend() method\n",
    "list13 = ['physics', 'chemistry', 1997, 2000, 1997, 3.14]\n",
    "list13.extend([2019, 2020])\n",
    "print(list13)"
   ]
  },
  {
   "cell_type": "code",
   "execution_count": 6,
   "metadata": {},
   "outputs": [
    {
     "name": "stdout",
     "output_type": "stream",
     "text": [
      "['physics', 'chemistry', 1997, 2000, 1997, 3.14, 'maths', 'biology']\n"
     ]
    }
   ],
   "source": [
    "#using extend() method to add elements of a list to another list\n",
    "list14 = ['physics', 'chemistry', 1997, 2000, 1997, 3.14]\n",
    "list15 = ['maths', 'biology']\n",
    "list14.extend(list15)\n",
    "print(list14)"
   ]
  },
  {
   "cell_type": "code",
   "execution_count": 8,
   "metadata": {},
   "outputs": [
    {
     "name": "stdout",
     "output_type": "stream",
     "text": [
      "['physics', 'chemistry', 1997, 2000, 1997, 3.14, 'maths', 'biology']\n"
     ]
    }
   ],
   "source": [
    "#using extend() method to add elements of a tuple to a list\n",
    "list16 = ['physics', 'chemistry', 1997, 2000, 1997, 3.14]\n",
    "tuple1 = ('maths', 'biology')\n",
    "list16.extend(tuple1)\n",
    "print(list16)\n"
   ]
  },
  {
   "cell_type": "code",
   "execution_count": 9,
   "metadata": {},
   "outputs": [
    {
     "name": "stdout",
     "output_type": "stream",
     "text": [
      "['physics', 'chemistry', 1997, 2000, 1997, 3.14, 'name', 'code']\n"
     ]
    }
   ],
   "source": [
    "#using extend() method with dictionary\n",
    "list17 = ['physics', 'chemistry', 1997, 2000, 1997, 3.14]\n",
    "dict1 = {'name': 'john', 'code': 6734}\n",
    "list17.extend(dict1)\n",
    "print(list17)"
   ]
  },
  {
   "cell_type": "code",
   "execution_count": 10,
   "metadata": {},
   "outputs": [
    {
     "name": "stdout",
     "output_type": "stream",
     "text": [
      "['chemistry', 1997, 2000, 1997, 3.14]\n"
     ]
    }
   ],
   "source": [
    "#using remove() method\n",
    "list18 = ['physics', 'chemistry', 1997, 2000, 1997, 3.14]\n",
    "list18.remove('physics')\n",
    "print(list18)"
   ]
  },
  {
   "cell_type": "code",
   "execution_count": 11,
   "metadata": {},
   "outputs": [
    {
     "name": "stdout",
     "output_type": "stream",
     "text": [
      "['physics', 'chemistry', 1997, 2000, 1997]\n"
     ]
    }
   ],
   "source": [
    "#using pop() method\n",
    "list19 = ['physics', 'chemistry', 1997, 2000, 1997, 3.14]\n",
    "list19.pop()\n",
    "print(list19)"
   ]
  },
  {
   "cell_type": "markdown",
   "metadata": {},
   "source": [
    "#### Looping in Lists\n"
   ]
  },
  {
   "cell_type": "code",
   "execution_count": 12,
   "metadata": {},
   "outputs": [
    {
     "name": "stdout",
     "output_type": "stream",
     "text": [
      "physics\n",
      "chemistry\n",
      "1997\n",
      "2000\n",
      "1997\n",
      "3.14\n"
     ]
    }
   ],
   "source": [
    "#looping through a list\n",
    "list20 = ['physics', 'chemistry', 1997, 2000, 1997, 3.14]\n",
    "for i in list20:\n",
    "    print(i)"
   ]
  },
  {
   "cell_type": "code",
   "execution_count": 13,
   "metadata": {},
   "outputs": [
    {
     "name": "stdout",
     "output_type": "stream",
     "text": [
      "6\n"
     ]
    }
   ],
   "source": [
    "#len() method\n",
    "list21 = ['physics', 'chemistry', 1997, 2000, 1997, 3.14]\n",
    "print(len(list21))\n"
   ]
  },
  {
   "cell_type": "code",
   "execution_count": 14,
   "metadata": {},
   "outputs": [
    {
     "name": "stdout",
     "output_type": "stream",
     "text": [
      "range(0, 6)\n"
     ]
    }
   ],
   "source": [
    "print(range(6))"
   ]
  },
  {
   "cell_type": "code",
   "execution_count": 15,
   "metadata": {},
   "outputs": [
    {
     "name": "stdout",
     "output_type": "stream",
     "text": [
      "physics\n",
      "chemistry\n",
      "1997\n",
      "2000\n",
      "1997\n",
      "3.14\n"
     ]
    }
   ],
   "source": [
    "#looping through a list using range() function\n",
    "list21 = ['physics', 'chemistry', 1997, 2000, 1997, 3.14]\n",
    "for i in range(len(list21)):\n",
    "    print(list21[i])\n"
   ]
  },
  {
   "cell_type": "code",
   "execution_count": 18,
   "metadata": {},
   "outputs": [
    {
     "name": "stdout",
     "output_type": "stream",
     "text": [
      "physics\n",
      "chemistry\n",
      "1997\n",
      "2000\n",
      "1997\n",
      "3.14\n"
     ]
    }
   ],
   "source": [
    "#using a while loop\n",
    "list22 = ['physics', 'chemistry', 1997, 2000, 1997, 3.14]\n",
    "i = 0\n",
    "while i < len(list22):\n",
    "    print(list22[i])\n",
    "    i = i + 1\n",
    "\n"
   ]
  },
  {
   "cell_type": "code",
   "execution_count": 23,
   "metadata": {},
   "outputs": [
    {
     "name": "stdout",
     "output_type": "stream",
     "text": [
      "range(0, 11)\n"
     ]
    }
   ],
   "source": [
    "print(range(11))"
   ]
  },
  {
   "cell_type": "code",
   "execution_count": 25,
   "metadata": {},
   "outputs": [
    {
     "name": "stdout",
     "output_type": "stream",
     "text": [
      "range(0, 11)\n"
     ]
    }
   ],
   "source": [
    "print(range(0, 11))"
   ]
  },
  {
   "cell_type": "code",
   "execution_count": 21,
   "metadata": {},
   "outputs": [
    {
     "name": "stdout",
     "output_type": "stream",
     "text": [
      "0\n",
      "1\n",
      "2\n",
      "3\n",
      "4\n",
      "5\n",
      "6\n",
      "7\n",
      "8\n",
      "9\n",
      "10\n"
     ]
    }
   ],
   "source": [
    "for i in range(11):\n",
    "    print(i)    "
   ]
  },
  {
   "cell_type": "code",
   "execution_count": 26,
   "metadata": {},
   "outputs": [
    {
     "name": "stdout",
     "output_type": "stream",
     "text": [
      "[0, 1, 2, 3, 4, 5, 6, 7, 8, 9, 10]\n"
     ]
    }
   ],
   "source": [
    "#list comprehension\n",
    "list23 = [x for x in range(11)]\n",
    "print(list23)"
   ]
  },
  {
   "cell_type": "code",
   "execution_count": 29,
   "metadata": {},
   "outputs": [
    {
     "name": "stdout",
     "output_type": "stream",
     "text": [
      "[0, 2, 4, 6, 8, 10]\n"
     ]
    }
   ],
   "source": [
    "#offers a shorter syntax when you want to loop through a list\n",
    "#list comprehension with if statement\n",
    "list24 = [x for x in range(11) if x % 2 == 0]\n",
    "print(list24)\n"
   ]
  },
  {
   "cell_type": "markdown",
   "metadata": {},
   "source": [
    "### List Comprehension\n",
    "\n",
    "List comprehension offers a shorter syntax when you want to create a new list based on the values of an existing list."
   ]
  },
  {
   "cell_type": "code",
   "execution_count": 30,
   "metadata": {},
   "outputs": [
    {
     "name": "stdout",
     "output_type": "stream",
     "text": [
      "[0, 2, 4, 6, 8, 10]\n"
     ]
    }
   ],
   "source": [
    "#create a new list with append() method\n",
    "list25 = []\n",
    "for x in range(11):\n",
    "    if x % 2 == 0:\n",
    "        list25.append(x)\n",
    "print(list25)"
   ]
  },
  {
   "cell_type": "code",
   "execution_count": 31,
   "metadata": {},
   "outputs": [
    {
     "name": "stdout",
     "output_type": "stream",
     "text": [
      "[0, 2, 4, 6, 8, 10]\n"
     ]
    }
   ],
   "source": [
    "#Create a new list with list comprehension\n",
    "list26 = [x for x in range(11) if x % 2 == 0]\n",
    "print(list26)"
   ]
  }
 ],
 "metadata": {
  "kernelspec": {
   "display_name": "base",
   "language": "python",
   "name": "python3"
  },
  "language_info": {
   "codemirror_mode": {
    "name": "ipython",
    "version": 3
   },
   "file_extension": ".py",
   "mimetype": "text/x-python",
   "name": "python",
   "nbconvert_exporter": "python",
   "pygments_lexer": "ipython3",
   "version": "3.11.5"
  }
 },
 "nbformat": 4,
 "nbformat_minor": 2
}
