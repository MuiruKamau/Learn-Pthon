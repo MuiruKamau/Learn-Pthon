{
 "cells": [
  {
   "cell_type": "markdown",
   "metadata": {},
   "source": [
    "Dictionaries are used to store data values in key:value pairs.\n",
    "\n",
    "A dictionary is a collection which is ordered*, changeable and do not allow duplicates.\n",
    "\n",
    "As of Python version 3.7, dictionaries are ordered. In Python 3.6 and earlier, dictionaries are"
   ]
  },
  {
   "cell_type": "code",
   "execution_count": 1,
   "metadata": {},
   "outputs": [
    {
     "name": "stdout",
     "output_type": "stream",
     "text": [
      "john doe\n",
      "25\n",
      "new york\n",
      "new york\n"
     ]
    }
   ],
   "source": [
    "# create a dictionary of a person's name, age, city, and state\n",
    "# print each item in the dictionary\n",
    "# add a new key to the dictionary\n",
    "# print the dictionary again\n",
    "\n",
    "person = {\n",
    "    'name': 'john doe',\n",
    "    'age': 25,\n",
    "    'city': 'new york',\n",
    "    'state': 'new york'\n",
    "}\n",
    "\n",
    "print(person['name'])\n",
    "print(person['age'])\n",
    "print(person['city'])\n",
    "print(person['state'])\n"
   ]
  },
  {
   "cell_type": "code",
   "execution_count": 3,
   "metadata": {},
   "outputs": [
    {
     "name": "stdout",
     "output_type": "stream",
     "text": [
      "30\n",
      "{'name': 'john doe', 'age': 30, 'city': 'new york', 'state': 'new york'}\n"
     ]
    }
   ],
   "source": [
    "#Duplicate not allowed\n",
    "person['age'] = 30\n",
    "print(person['age'])\n",
    "print(person)\n"
   ]
  },
  {
   "cell_type": "code",
   "execution_count": 4,
   "metadata": {},
   "outputs": [
    {
     "name": "stdout",
     "output_type": "stream",
     "text": [
      "reading\n",
      "writing\n"
     ]
    }
   ],
   "source": [
    "#A list inside a dictionary\n",
    "person = {\n",
    "    'name': 'john doe',\n",
    "    'age': 25,\n",
    "    'city': 'new york',\n",
    "    'state': 'new york',\n",
    "    'hobbies': ['reading', 'writing', 'coding']\n",
    "}\n",
    "\n",
    "print(person['hobbies'][0])\n",
    "print(person['hobbies'][1])"
   ]
  },
  {
   "cell_type": "code",
   "execution_count": 5,
   "metadata": {},
   "outputs": [
    {
     "name": "stdout",
     "output_type": "stream",
     "text": [
      "{'name': 'john doe', 'age': 25, 'city': 'new york', 'state': 'new york'}\n"
     ]
    }
   ],
   "source": [
    "#using dict function\n",
    "person = dict(name='john doe', age=25, city='new york', state='new york')\n",
    "print(person)"
   ]
  },
  {
   "cell_type": "markdown",
   "metadata": {},
   "source": [
    "#### Accessing Items inside a dictionary"
   ]
  },
  {
   "cell_type": "code",
   "execution_count": 6,
   "metadata": {},
   "outputs": [
    {
     "name": "stdout",
     "output_type": "stream",
     "text": [
      "john doe\n"
     ]
    }
   ],
   "source": [
    "person = dict(name='john doe', age=25, city='new york', state='new york')\n",
    "print(person['name'])\n"
   ]
  },
  {
   "cell_type": "code",
   "execution_count": 7,
   "metadata": {},
   "outputs": [
    {
     "name": "stdout",
     "output_type": "stream",
     "text": [
      "john doe\n",
      "25\n"
     ]
    }
   ],
   "source": [
    "#using get method\n",
    "person = dict(name='john doe', age=25, city='new york', state='new york')\n",
    "print(person.get('name'))\n",
    "print(person.get('age'))"
   ]
  },
  {
   "cell_type": "code",
   "execution_count": 8,
   "metadata": {},
   "outputs": [
    {
     "name": "stdout",
     "output_type": "stream",
     "text": [
      "dict_keys(['name', 'age', 'city', 'state'])\n"
     ]
    }
   ],
   "source": [
    "#get a list of keys\n",
    "person = dict(name='john doe', age=25, city='new york', state='new york')\n",
    "print(person.keys())\n"
   ]
  },
  {
   "cell_type": "code",
   "execution_count": 9,
   "metadata": {},
   "outputs": [
    {
     "name": "stdout",
     "output_type": "stream",
     "text": [
      "dict_values(['john doe', 25, 'new york', 'new york'])\n"
     ]
    }
   ],
   "source": [
    "#get a list of values\n",
    "person = dict(name='john doe', age=25, city='new york', state='new york')\n",
    "print(person.values())"
   ]
  },
  {
   "cell_type": "code",
   "execution_count": 10,
   "metadata": {},
   "outputs": [
    {
     "name": "stdout",
     "output_type": "stream",
     "text": [
      "dict_items([('name', 'john doe'), ('age', 25), ('city', 'new york'), ('state', 'new york')])\n"
     ]
    }
   ],
   "source": [
    "#get a list of items\n",
    "person = dict(name='john doe', age=25, city='new york', state='new york')\n",
    "print(person.items())\n"
   ]
  },
  {
   "cell_type": "code",
   "execution_count": 11,
   "metadata": {},
   "outputs": [
    {
     "name": "stdout",
     "output_type": "stream",
     "text": [
      "True\n",
      "True\n"
     ]
    }
   ],
   "source": [
    "#check if a key exists\n",
    "person = dict(name='john doe', age=25, city='new york', state='new york')\n",
    "print('name' in person)\n",
    "print('age' in person)"
   ]
  },
  {
   "cell_type": "markdown",
   "metadata": {},
   "source": [
    "#### Change Items"
   ]
  },
  {
   "cell_type": "code",
   "execution_count": 12,
   "metadata": {},
   "outputs": [
    {
     "name": "stdout",
     "output_type": "stream",
     "text": [
      "{'name': 'jane doe', 'age': 25, 'city': 'new york', 'state': 'new york'}\n"
     ]
    }
   ],
   "source": [
    "#change a value\n",
    "person = dict(name='john doe', age=25, city='new york', state='new york')\n",
    "person['name'] = 'jane doe'\n",
    "print(person)"
   ]
  },
  {
   "cell_type": "markdown",
   "metadata": {},
   "source": [
    "#### Add Items"
   ]
  },
  {
   "cell_type": "code",
   "execution_count": 13,
   "metadata": {},
   "outputs": [
    {
     "name": "stdout",
     "output_type": "stream",
     "text": [
      "{'name': 'john doe', 'age': 25, 'city': 'new york', 'state': 'new york', 'hobbies': ['reading', 'writing', 'coding']}\n"
     ]
    }
   ],
   "source": [
    "#add items\n",
    "person = dict(name='john doe', age=25, city='new york', state='new york')\n",
    "person['hobbies'] = ['reading', 'writing', 'coding']\n",
    "print(person)"
   ]
  },
  {
   "cell_type": "code",
   "execution_count": 15,
   "metadata": {},
   "outputs": [
    {
     "name": "stdout",
     "output_type": "stream",
     "text": [
      "{'name': 'john doe', 'age': 25, 'city': 'new york', 'state': 'new york', 'hobbies': ['reading', 'writing', 'coding']}\n"
     ]
    }
   ],
   "source": [
    "#Update method to add items\n",
    "person = dict(name='john doe', age=25, city='new york', state='new york')\n",
    "person.update({'hobbies': ['reading', 'writing', 'coding']})\n",
    "print(person)"
   ]
  },
  {
   "cell_type": "markdown",
   "metadata": {},
   "source": [
    "#### Remove Items"
   ]
  },
  {
   "cell_type": "code",
   "execution_count": 16,
   "metadata": {},
   "outputs": [
    {
     "name": "stdout",
     "output_type": "stream",
     "text": [
      "{'name': 'john doe', 'city': 'new york', 'state': 'new york'}\n"
     ]
    }
   ],
   "source": [
    "#remove items\n",
    "person = dict(name='john doe', age=25, city='new york', state='new york')\n",
    "del person['age']\n",
    "print(person)"
   ]
  },
  {
   "cell_type": "code",
   "execution_count": 17,
   "metadata": {},
   "outputs": [
    {
     "name": "stdout",
     "output_type": "stream",
     "text": [
      "{'name': 'john doe', 'city': 'new york', 'state': 'new york'}\n"
     ]
    }
   ],
   "source": [
    "#remove items using pop method\n",
    "person = dict(name='john doe', age=25, city='new york', state='new york')\n",
    "person.pop('age')\n",
    "print(person)"
   ]
  },
  {
   "cell_type": "markdown",
   "metadata": {},
   "source": [
    "#### Loop Dictionaries"
   ]
  },
  {
   "cell_type": "code",
   "execution_count": 18,
   "metadata": {},
   "outputs": [
    {
     "name": "stdout",
     "output_type": "stream",
     "text": [
      "name\n",
      "age\n",
      "city\n",
      "state\n"
     ]
    }
   ],
   "source": [
    "#loop through a dictionary to print keys\n",
    "person = dict(name='john doe', age=25, city='new york', state='new york')\n",
    "for key in person:\n",
    "    print(key)"
   ]
  },
  {
   "cell_type": "code",
   "execution_count": 19,
   "metadata": {},
   "outputs": [
    {
     "name": "stdout",
     "output_type": "stream",
     "text": [
      "john doe\n",
      "25\n",
      "new york\n",
      "new york\n"
     ]
    }
   ],
   "source": [
    "#loop through a dictionary to print values\n",
    "person = dict(name='john doe', age=25, city='new york', state='new york')\n",
    "for key in person:\n",
    "    print(person[key])"
   ]
  },
  {
   "cell_type": "code",
   "execution_count": 20,
   "metadata": {},
   "outputs": [
    {
     "name": "stdout",
     "output_type": "stream",
     "text": [
      "john doe\n",
      "25\n",
      "new york\n",
      "new york\n"
     ]
    }
   ],
   "source": [
    "#loop through a dictionary using values method\n",
    "person = dict(name='john doe', age=25, city='new york', state='new york')\n",
    "for value in person.values():\n",
    "    print(value)"
   ]
  },
  {
   "cell_type": "code",
   "execution_count": 21,
   "metadata": {},
   "outputs": [
    {
     "name": "stdout",
     "output_type": "stream",
     "text": [
      "name john doe\n",
      "age 25\n",
      "city new york\n",
      "state new york\n"
     ]
    }
   ],
   "source": [
    "#loop through a dictionary using items method\n",
    "person = dict(name='john doe', age=25, city='new york', state='new york')\n",
    "for key, value in person.items():\n",
    "    print(key, value)"
   ]
  },
  {
   "cell_type": "markdown",
   "metadata": {},
   "source": [
    "#### Copy\n",
    "\n",
    "You cannot copy a dictionary simply by typing dict2 = dict1, because: dict2 will only be a reference to dict1, and changes made in dict1 will automatically also be made in dict2."
   ]
  },
  {
   "cell_type": "code",
   "execution_count": 22,
   "metadata": {},
   "outputs": [
    {
     "name": "stdout",
     "output_type": "stream",
     "text": [
      "{'name': 'john doe', 'age': 25, 'city': 'new york', 'state': 'new york'}\n"
     ]
    }
   ],
   "source": [
    "#copy a dictionary\n",
    "person = dict(name='john doe', age=25, city='new york', state='new york')\n",
    "person2 = person.copy()\n",
    "print(person2)"
   ]
  },
  {
   "cell_type": "markdown",
   "metadata": {},
   "source": [
    "#### Nested Dictionaries\n",
    "\n",
    "A dictionary can contain dictionaries, this is called nested dictionaries."
   ]
  },
  {
   "cell_type": "code",
   "execution_count": 25,
   "metadata": {},
   "outputs": [
    {
     "name": "stdout",
     "output_type": "stream",
     "text": [
      "{'child1': {'name': 'Emil', 'year': 2004}, 'child2': {'name': 'Tobias', 'year': 2007}, 'child3': {'name': 'Linus', 'year': 2011}}\n"
     ]
    }
   ],
   "source": [
    "# create a nested dictionary with three dictionaries inside\n",
    "\n",
    "myfamily = {\n",
    "  \"child1\" : {\n",
    "    \"name\" : \"Emil\",\n",
    "    \"year\" : 2004\n",
    "  },\n",
    "  \"child2\" : {\n",
    "    \"name\" : \"Tobias\",\n",
    "    \"year\" : 2007\n",
    "  },\n",
    "  \"child3\" : {\n",
    "    \"name\" : \"Linus\",\n",
    "    \"year\" : 2011\n",
    "  }\n",
    "}\n",
    "\n",
    "print(myfamily)\n"
   ]
  },
  {
   "cell_type": "code",
   "execution_count": 26,
   "metadata": {},
   "outputs": [
    {
     "name": "stdout",
     "output_type": "stream",
     "text": [
      "{'child1': {'name': 'Emil', 'year': 2004}, 'child2': {'name': 'Tobias', 'year': 2007}, 'child3': {'name': 'Linus', 'year': 2011}}\n"
     ]
    }
   ],
   "source": [
    "#Create three dictionaries, then create one dictionary that will contain the other three dictionaries\n",
    "\n",
    "child1 = {\n",
    "    \"name\": \"Emil\",\n",
    "    \"year\": 2004\n",
    "}\n",
    "\n",
    "child2 = {\n",
    "    \"name\": \"Tobias\",\n",
    "    \"year\": 2007\n",
    "}\n",
    "\n",
    "child3 = {\n",
    "    \"name\": \"Linus\",\n",
    "    \"year\": 2011\n",
    "}\n",
    "\n",
    "myfamily = {\n",
    "    \"child1\": child1,\n",
    "    \"child2\": child2,\n",
    "    \"child3\": child3\n",
    "}\n",
    "\n",
    "print(myfamily)"
   ]
  },
  {
   "cell_type": "code",
   "execution_count": 27,
   "metadata": {},
   "outputs": [
    {
     "name": "stdout",
     "output_type": "stream",
     "text": [
      "Emil\n",
      "2004\n"
     ]
    }
   ],
   "source": [
    "#Access items in a nested dictionary\n",
    "myfamily = {\n",
    "    \"child1\": {\n",
    "        \"name\": \"Emil\",\n",
    "        \"year\": 2004\n",
    "    },\n",
    "    \"child2\": {\n",
    "        \"name\": \"Tobias\",\n",
    "        \"year\": 2007\n",
    "    },\n",
    "    \"child3\": {\n",
    "        \"name\": \"Linus\",\n",
    "        \"year\": 2011\n",
    "    }\n",
    "}\n",
    "\n",
    "print(myfamily['child1']['name'])\n",
    "print(myfamily['child1']['year'])"
   ]
  },
  {
   "cell_type": "markdown",
   "metadata": {},
   "source": [
    "##### Dictionary Methods\n",
    "\n",
    "key(),items(),get(),pop(),update()\n"
   ]
  }
 ],
 "metadata": {
  "kernelspec": {
   "display_name": "base",
   "language": "python",
   "name": "python3"
  },
  "language_info": {
   "codemirror_mode": {
    "name": "ipython",
    "version": 3
   },
   "file_extension": ".py",
   "mimetype": "text/x-python",
   "name": "python",
   "nbconvert_exporter": "python",
   "pygments_lexer": "ipython3",
   "version": "3.11.5"
  }
 },
 "nbformat": 4,
 "nbformat_minor": 2
}
