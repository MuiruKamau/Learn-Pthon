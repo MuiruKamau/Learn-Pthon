{
 "cells": [
  {
   "cell_type": "markdown",
   "metadata": {},
   "source": [
    "# While Loop\n",
    "\n",
    "With the while loop we can execute a set of statements as long as a condition is true."
   ]
  },
  {
   "cell_type": "code",
   "execution_count": 1,
   "metadata": {},
   "outputs": [
    {
     "name": "stdout",
     "output_type": "stream",
     "text": [
      "banana\n",
      "apple\n",
      "kiwi\n",
      "passion\n",
      "melon\n",
      "orange\n"
     ]
    }
   ],
   "source": [
    "#create a while loop\n",
    "\n",
    "a = ['banana','apple','kiwi','passion','melon','orange']\n",
    "i = 0\n",
    "while i < len(a):\n",
    "    print(a[i])\n",
    "    i += 1"
   ]
  },
  {
   "cell_type": "code",
   "execution_count": 2,
   "metadata": {},
   "outputs": [
    {
     "name": "stdout",
     "output_type": "stream",
     "text": [
      "apple\n",
      "kiwi\n",
      "passion\n",
      "melon\n",
      "orange\n"
     ]
    }
   ],
   "source": [
    "#create a while loop\n",
    "\n",
    "a = ['banana','apple','kiwi','passion','melon','orange']\n",
    "i = 1\n",
    "while i < len(a):\n",
    "    print(a[i])\n",
    "    i += 1"
   ]
  },
  {
   "cell_type": "code",
   "execution_count": 3,
   "metadata": {},
   "outputs": [
    {
     "name": "stdout",
     "output_type": "stream",
     "text": [
      "banana\n",
      "apple\n",
      "kiwi\n",
      "passion\n"
     ]
    }
   ],
   "source": [
    "#break statement\n",
    "\n",
    "a = ['banana','apple','kiwi','passion','melon','orange']\n",
    "i = 0\n",
    "while i < len(a):\n",
    "    print(a[i])\n",
    "    if a[i] == 'passion':\n",
    "        break\n",
    "    i += 1"
   ]
  },
  {
   "cell_type": "code",
   "execution_count": 6,
   "metadata": {},
   "outputs": [
    {
     "name": "stdout",
     "output_type": "stream",
     "text": [
      "apple\n",
      "kiwi\n",
      "melon\n",
      "orange\n"
     ]
    }
   ],
   "source": [
    "a = ['banana','apple','kiwi','passion','melon','orange']\n",
    "i = 0\n",
    "while i < len(a):\n",
    "    i += 1\n",
    "    if i >= len(a):\n",
    "        break\n",
    "    if a[i] == 'passion':\n",
    "        continue\n",
    "    print(a[i])"
   ]
  }
 ],
 "metadata": {
  "kernelspec": {
   "display_name": "base",
   "language": "python",
   "name": "python3"
  },
  "language_info": {
   "codemirror_mode": {
    "name": "ipython",
    "version": 3
   },
   "file_extension": ".py",
   "mimetype": "text/x-python",
   "name": "python",
   "nbconvert_exporter": "python",
   "pygments_lexer": "ipython3",
   "version": "3.11.5"
  }
 },
 "nbformat": 4,
 "nbformat_minor": 2
}
